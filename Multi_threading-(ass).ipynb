{
 "cells": [
  {
   "cell_type": "markdown",
   "id": "9d7f59ee",
   "metadata": {},
   "source": [
    "# question 1"
   ]
  },
  {
   "cell_type": "code",
   "execution_count": 1,
   "id": "17675d3a",
   "metadata": {},
   "outputs": [],
   "source": [
    "# multi-threading in python = Multithreading in Python refers to the concurrent execution of multiple threads within a single process.\n",
    "\n",
    "# why it is use = Multithreading is used to improve the performance and efficiency of programs, particularly in scenarios where tasks can be executed concurrently.\n",
    "\n",
    "# Name the module uused to handle threads = The \"threading\" module is commonly used in Python to handle threads. It provides a high-level interface for creating, controlling, and managing threads in a program. "
   ]
  },
  {
   "cell_type": "code",
   "execution_count": 2,
   "id": "ccc64afe",
   "metadata": {},
   "outputs": [],
   "source": [
    "# example = \n",
    "import threading"
   ]
  },
  {
   "cell_type": "code",
   "execution_count": 3,
   "id": "cd577a19",
   "metadata": {},
   "outputs": [],
   "source": [
    "def test(id):\n",
    "    print(\"prog start %d\" % id)"
   ]
  },
  {
   "cell_type": "code",
   "execution_count": 5,
   "id": "f6148515",
   "metadata": {},
   "outputs": [],
   "source": [
    "thread = [threading.Thread(target = test , args = (i,)) for i in range(10)]"
   ]
  },
  {
   "cell_type": "code",
   "execution_count": 6,
   "id": "4d8a8fc6",
   "metadata": {},
   "outputs": [
    {
     "name": "stdout",
     "output_type": "stream",
     "text": [
      "prog start 0\n",
      "prog start 1\n",
      "prog start 2\n",
      "prog start 3\n",
      "prog start 4\n",
      "prog start 5\n",
      "prog start 6\n",
      "prog start 7\n",
      "prog start 8\n",
      "prog start 9\n"
     ]
    }
   ],
   "source": [
    "for t in thread:\n",
    "    t.start()"
   ]
  },
  {
   "cell_type": "markdown",
   "id": "6303c834",
   "metadata": {},
   "source": [
    "# question 2"
   ]
  },
  {
   "cell_type": "code",
   "execution_count": 7,
   "id": "b2440ca2",
   "metadata": {},
   "outputs": [],
   "source": [
    "# why = The \"threading\" module in Python is used to handle threads and provides various functions to manage and control their behavior."
   ]
  },
  {
   "cell_type": "code",
   "execution_count": 8,
   "id": "e5995638",
   "metadata": {},
   "outputs": [],
   "source": [
    "# 1. ActiveCount() = The activeCount() function returns the number of Thread objects currently alive (i.e., running or in a paused state) within the program.\n",
    "# 2. currentThread() = The currentThread() function returns the Thread object corresponding to the current thread of execution.\n",
    "# 3. enumerate() = The enumerate() function returns a list of all Thread objects currently alive, including the main thread."
   ]
  },
  {
   "cell_type": "markdown",
   "id": "63ba6422",
   "metadata": {},
   "source": [
    "# question 3"
   ]
  },
  {
   "cell_type": "code",
   "execution_count": 12,
   "id": "16eeee39",
   "metadata": {},
   "outputs": [
    {
     "name": "stdout",
     "output_type": "stream",
     "text": [
      "thread is running...\n"
     ]
    }
   ],
   "source": [
    "# run() = The run() function is the entry point for the thread's activity. It contains the code that will be executed when the thread is started. \n",
    "# example = \n",
    "\n",
    "import threading \n",
    "\n",
    "class test(threading.Thread):\n",
    "    def run(self):\n",
    "        print(\"thread is running...\")\n",
    "        \n",
    "thread = test()\n",
    "thread.run()"
   ]
  },
  {
   "cell_type": "code",
   "execution_count": 13,
   "id": "8d998770",
   "metadata": {},
   "outputs": [
    {
     "name": "stdout",
     "output_type": "stream",
     "text": [
      "thread is start\n"
     ]
    }
   ],
   "source": [
    "# 2. start() = The start() function is used to start a thread's activity. It initializes the thread and calls the run() function to execute the code defined for that thread.\n",
    "\n",
    "# example =\n",
    "\n",
    "import threading\n",
    "\n",
    "def test():\n",
    "    print(\"thread is start\")\n",
    "    \n",
    "thread = threading.Thread(target = test)\n",
    "thread.start()"
   ]
  },
  {
   "cell_type": "code",
   "execution_count": 16,
   "id": "7f9a91d4",
   "metadata": {},
   "outputs": [
    {
     "name": "stdout",
     "output_type": "stream",
     "text": [
      "thread is join\n",
      "Program continues....\n"
     ]
    }
   ],
   "source": [
    "# 3. join() = The join() function block the execution of the program here it allwo one thread to wait for the another thread to finishbefore proceeding further.\n",
    "\n",
    "# example =\n",
    "import threading\n",
    "\n",
    "def test1():\n",
    "    print(\"thread is join\")\n",
    "    \n",
    "thread = threading.Thread(target = test1)\n",
    "thread.start()\n",
    "thread.join()\n",
    "print(\"Program continues....\")"
   ]
  },
  {
   "cell_type": "code",
   "execution_count": 19,
   "id": "d0c36ad4",
   "metadata": {},
   "outputs": [],
   "source": [
    "# 4 isAlive() = The isAlive() function is used to check whether a thread is currently running or in a paused/terminated state also its return true when thread is active otherwise it return false..\n",
    "\n"
   ]
  },
  {
   "cell_type": "markdown",
   "id": "949ebd46",
   "metadata": {},
   "source": [
    "# question 4"
   ]
  },
  {
   "cell_type": "code",
   "execution_count": 20,
   "id": "481f82af",
   "metadata": {},
   "outputs": [],
   "source": [
    "import threading"
   ]
  },
  {
   "cell_type": "code",
   "execution_count": 22,
   "id": "61a8498f",
   "metadata": {},
   "outputs": [
    {
     "name": "stdout",
     "output_type": "stream",
     "text": [
      "square:1\n",
      "square:4\n",
      "square:9\n",
      "square:16\n",
      "square:25\n",
      "program execut\n"
     ]
    }
   ],
   "source": [
    "def square():\n",
    "    for i in range(1,6):\n",
    "        print(f\"square:{i*i}\")\n",
    "\n",
    "        \n",
    "        \n",
    "thread1 = threading.Thread(target = square)\n",
    "\n",
    "\n",
    "thread1.start()\n",
    "\n",
    "\n",
    "thread1.join()\n",
    "\n",
    "\n",
    "print(\"program execut\")\n",
    "        \n",
    "        "
   ]
  },
  {
   "cell_type": "code",
   "execution_count": 25,
   "id": "7d781ac7",
   "metadata": {},
   "outputs": [
    {
     "name": "stdout",
     "output_type": "stream",
     "text": [
      "cube:1\n",
      "cube:8\n",
      "cube:27\n",
      "cube:64\n",
      "cube:125\n",
      "program is excute\n"
     ]
    }
   ],
   "source": [
    "import threading\n",
    "\n",
    "def cube():\n",
    "    for i in range(1,6):\n",
    "        print(f\"cube:{i*i*i}\")\n",
    "        \n",
    "thread = threading.Thread(target = cube)\n",
    "\n",
    "thread.start()\n",
    "thread.join()\n",
    "\n",
    "print(\"program is excute\")"
   ]
  },
  {
   "cell_type": "markdown",
   "id": "f240dfec",
   "metadata": {},
   "source": [
    "# question 5"
   ]
  },
  {
   "cell_type": "code",
   "execution_count": 26,
   "id": "5dd44dfc",
   "metadata": {},
   "outputs": [],
   "source": [
    "# advantage : Improved Performance: Multithreading allows concurrent execution of multiple tasks, utilizing the available system resources more efficiently\n",
    "# 2. Responsiveness: Multithreading enables a program to remain responsive even when performing time-consuming operations\n",
    "# 3. Resource Sharing: Threads within a process can share the same memory space, allowing for efficient communication and sharing of data\n",
    " # disadvantage:\n",
    "    \n",
    " # 1. Complexity: Multithreaded programs can be more complex to design, implement, and debug compared to single-threaded programs.\n",
    "# 2. Difficult Debugging: Debugging multithreaded programs can be challenging due to the potential for race conditions and other concurrency-related issues."
   ]
  },
  {
   "cell_type": "markdown",
   "id": "af83299d",
   "metadata": {},
   "source": [
    "# question 6"
   ]
  },
  {
   "cell_type": "code",
   "execution_count": null,
   "id": "e89ecb9c",
   "metadata": {},
   "outputs": [],
   "source": [
    "#Deadlock:\n",
    "#A deadlock occurs when two or more threads or processes are unable to proceed because each is waiting for the other to release a resource or take some action. In other words, it's a situation where threads are stuck in a circular dependency, and none of them can progress. As a result, the program halts indefinitely, and no further work can be done.\n",
    "\n",
    "#Example of Deadlock:\n",
    "#Consider a scenario where Thread A holds Resource X and needs Resource Y, while Thread B holds Resource Y and needs Resource X. If both threads wait indefinitely for the other to release the resource, a deadlock occurs.\n",
    "\n",
    "#Race Condition:\n",
    "#A race condition happens when multiple threads access and manipulate shared data simultaneously, leading to unpredictable and undesired outcomes. The result of the program becomes dependent on the timing and interleaving of the threads' execution, which can lead to inconsistent or incorrect results."
   ]
  }
 ],
 "metadata": {
  "kernelspec": {
   "display_name": "Python 3 (ipykernel)",
   "language": "python",
   "name": "python3"
  },
  "language_info": {
   "codemirror_mode": {
    "name": "ipython",
    "version": 3
   },
   "file_extension": ".py",
   "mimetype": "text/x-python",
   "name": "python",
   "nbconvert_exporter": "python",
   "pygments_lexer": "ipython3",
   "version": "3.11.3"
  }
 },
 "nbformat": 4,
 "nbformat_minor": 5
}
